{
 "cells": [
  {
   "cell_type": "markdown",
   "metadata": {},
   "source": [
    "# __Introduction to Python for Data Science__\n",
    "## _CSE Mentor Program - University of Colorado, Denver. Spring - 2019_"
   ]
  },
  {
   "cell_type": "markdown",
   "metadata": {},
   "source": [
    "This workshop is intended to introduce Python to Undergrad and Graduate students in the context of Data Science techniques. \n",
    "\n",
    "During three sessions we will covering the basis of the Python Language, the use of Pandas to access and manipulate data and the Scikit-Learn library to do some basic analysis. "
   ]
  },
  {
   "cell_type": "markdown",
   "metadata": {},
   "source": [
    "# Session 1 - Introduction to Python\n",
    "In this session we will focus on the basis of the Python Programming Language. \n",
    "\n",
    "# 1 - Environment Description\n",
    "\n",
    "For this workshop we will be using Jupyter Notebooks, which will allow us to quickly implement Python applications using a really nice graphical IDE. To install your own copy of Jupyter Notebook, please visit https://www.anaconda.com/download/.\n",
    "\n",
    "Jupyter Notebook is based on cell execution. Each cell has a type, which can be \n",
    "- Markdown: to nicely display text\n",
    "- Raw: to display raw (ascii) text \n",
    "- Code: to input Python code and execute it. \n",
    "\n",
    "Add a new cell of type Code (default type) type your statements and then hit **Shift+Enter** to evaluate the statement(s) on the cell. \n",
    "\n",
    "The **\\#** character, marks the rest of the line as a comment. You can also select several lines and hit **Ctrl+/** or **Cmd+/** to automatically tongle the line comment \n",
    "\n",
    "For example, the next cell just evaluates the number 10, showing it as the output. You will notice, that there's a number between \\[ \\] to the left cell in blue fonts. That is the order of evaluation of the cell. Just below, after evaluating the cell, you will find a the same number between square braces in red font. That represents the cell output. \n",
    "\n",
    "Move your cursor to the next cell and hit Ctrl+Enter to evaluate or clic the play arrw in the tab menu. \n"
   ]
  },
  {
   "cell_type": "code",
   "execution_count": null,
   "metadata": {},
   "outputs": [],
   "source": [
    "10"
   ]
  },
  {
   "cell_type": "code",
   "execution_count": null,
   "metadata": {},
   "outputs": [],
   "source": [
    "10+10"
   ]
  },
  {
   "cell_type": "markdown",
   "metadata": {},
   "source": [
    "If you add several statements, you will see the evaluation output of only the last statement within the cell. "
   ]
  },
  {
   "cell_type": "code",
   "execution_count": null,
   "metadata": {},
   "outputs": [],
   "source": [
    "10+10 \n",
    "20*2"
   ]
  },
  {
   "cell_type": "markdown",
   "metadata": {},
   "source": [
    "To display more than one output you can use the display statement"
   ]
  },
  {
   "cell_type": "code",
   "execution_count": null,
   "metadata": {},
   "outputs": [],
   "source": [
    "display(10)\n",
    "display(20)"
   ]
  },
  {
   "cell_type": "markdown",
   "metadata": {},
   "source": [
    "# 2 - Warming up with Python\n",
    "Let's evaluate several data inputs and let's obtain each object type"
   ]
  },
  {
   "cell_type": "code",
   "execution_count": null,
   "metadata": {},
   "outputs": [],
   "source": [
    "display(10)\n",
    "display(10.5)\n",
    "display(True)\n",
    "display(False)\n",
    "display(None)\n",
    "display('My name is John')\n",
    "\n",
    "display(type(10))\n",
    "display(type(False))\n",
    "display(type(\"Hello World!\"))"
   ]
  },
  {
   "cell_type": "markdown",
   "metadata": {},
   "source": [
    "# 3 - Variables, Arithmetic and Logical Operators\n",
    "\n",
    "### Variables\n",
    "\n",
    "The first thing we usualy need is variables. One thing, Python in contrast to languages like Java or C++, has a dynamic type system. That means that a variable can hold an integer object for some time and then a float or a string; or even a complex object. \n",
    "\n",
    "Similar to the _display()_ command, we have the _print()_ command to print to the output. "
   ]
  },
  {
   "cell_type": "code",
   "execution_count": null,
   "metadata": {},
   "outputs": [],
   "source": [
    "age = 26\n",
    "name = \"John\" \n",
    "print(name)\n",
    "print(\"My name is\", name)\n",
    "print (name +\" is \" + str(age) + \" old.\" )\n",
    "print ('print(name +\" is \" + str(age) + \" old.\") uses a explicit cast to convert the age to a string in order to concatenate it!')\n"
   ]
  },
  {
   "cell_type": "markdown",
   "metadata": {},
   "source": [
    "### Arithmetic Operators"
   ]
  },
  {
   "cell_type": "code",
   "execution_count": null,
   "metadata": {},
   "outputs": [],
   "source": [
    "a = 10\n",
    "b = 25.5\n",
    "c = 45\n",
    "print(\"a+b is:\", a+b)\n",
    "print(\"a*b is:\", a*b)\n",
    "print(\"\")\n",
    "print(\"a-b is:\", a-b)\n",
    "print(\"b-a is:\", b-a)\n",
    "print(\"\")\n",
    "print(\"b/a  is:\", b/a, \" (real division)\")\n",
    "print(\"b//a is:\", b//a, \" (integer division)\")\n",
    "print(\"\")\n",
    "print(\"c % a is:\", c % a, \" (remainder)\")\n",
    "print(\"\")\n",
    "print(\"2**a ==> 2 to the power of a is:\", 2 ** a)\n",
    "\n",
    "print(\"-- CASTING --\")\n",
    "print(\"int(2.5):\", int(2.5), \" converts a float (2.5) into an integer\")\n",
    "print(\"float(2):\", float(2), \" converts an integer (2) into an float\")"
   ]
  },
  {
   "cell_type": "markdown",
   "metadata": {},
   "source": [
    "### Relational Operators"
   ]
  },
  {
   "cell_type": "code",
   "execution_count": null,
   "metadata": {},
   "outputs": [],
   "source": [
    "i = 10\n",
    "j = 20\n",
    "\n",
    "print(\"i<j\" ,i<j)\n",
    "print(\"i<=j\",i<=j)\n",
    "print(\"i==j\",i==j)\n",
    "print(\"i>=j\",i>=j)\n",
    "print(\"i>j\" ,i>j)\n",
    "print(\"i!=j\",i!=j)\n"
   ]
  },
  {
   "cell_type": "markdown",
   "metadata": {},
   "source": [
    "### String Concatenation"
   ]
  },
  {
   "cell_type": "code",
   "execution_count": null,
   "metadata": {},
   "outputs": [],
   "source": [
    "greeting = \"Hello \"\n",
    "saludation = \"Mr. \" \n",
    "name = \"Alex\"\n",
    "\n",
    "welcome = greeting + saludation + name\n",
    "print(welcome)\n",
    "\n",
    "# We can repeat things like\n",
    "weird_welcome = greeting*2 + name\n",
    "print(weird_welcome)"
   ]
  },
  {
   "cell_type": "markdown",
   "metadata": {},
   "source": [
    "### Logic Operators\n",
    "Or programs are going to use more complex boolean expression. We can combine simple ones by using __And__, __Or__ and __Not__ as follows:"
   ]
  },
  {
   "cell_type": "code",
   "execution_count": null,
   "metadata": {},
   "outputs": [],
   "source": [
    "print('-'*(11*5+1))  ## Review this expression!!\n",
    "print(\"|{:^10}|{:^10}|{:^10}|{:^10}|{:^10}|\".format(\"A\",\"B\",\"not A\",\"A and B\",\"A or B\")) \n",
    "print(\"|\"+(\"-\"*10+\"|\")*5)\n",
    "\n",
    "a=True; \n",
    "b=True;  \n",
    "print(\"|{:^10}|{:^10}|{:^10}|{:^10}|{:^10}|\".format(str(a),str(b),str(not a), str(a and b), str(a or b)))\n",
    "\n",
    "a=False;b=True;  print(\"|{:^10}|{:^10}|{:^10}|{:^10}|{:^10}|\".format(str(a),str(b),str(not a), str(a and b), str(a or b)))\n",
    "a=True; b=False; print(\"|{:^10}|{:^10}|{:^10}|{:^10}|{:^10}|\".format(str(a),str(b),str(not a), str(a and b), str(a or b)))\n",
    "a=False;b=False; print(\"|{:^10}|{:^10}|{:^10}|{:^10}|{:^10}|\".format(str(a),str(b),str(not a), str(a and b), str(a or b)))\n",
    "print('-'*(11*5+1))"
   ]
  },
  {
   "cell_type": "markdown",
   "metadata": {},
   "source": [
    "- In the previous expression we are using the _format()_ method of an string to generate nice outputs.  __Some Examples:__\n",
    "<pre>\n",
    ">>> '{:<30}'.format('left aligned')\n",
    ">>> '{:>30}'.format('right aligned')\n",
    ">>> '{:^30}'.format('centered')\n",
    ">>> '{:*^30}'.format('centered')  # use '*' as a fill char\n",
    "</pre>\n",
    "\n",
    "Here is the documentation available for that function. https://docs.python.org/3.4/library/string.html#string.Formatter"
   ]
  },
  {
   "attachments": {
    "image.png": {
     "image/png": "[encoded data removed]"
    }
   },
   "cell_type": "markdown",
   "metadata": {},
   "source": [
    "# 4 - Control Structures\n",
    "\n",
    "## Block delitimit\n",
    "While in Java and C++ blocks are defined using brackets { }, python uses indentation to delimit blocks. \n",
    "A colon **“:”** is used to state that a block will start\n",
    "![image.png](attachment:image.png)\n",
    "<pre>\n",
    "def foo(x):\n",
    "    x = x + 1\n",
    "    return x\n",
    "\n",
    "print ( foo(10) )\n",
    "</pre>\n",
    "\n",
    "\n",
    "## If Statement\n",
    "The behavior of the if statement in Python is similar to other languages. Here are the syntax:\n",
    "\n",
    "### Simple if statement\n",
    "<pre>\n",
    "if condition:\n",
    "    expressions if condition is true\n",
    "</pre>\n",
    "\n",
    "### Simple if / else statement\n",
    "<pre>\n",
    "if condition:\n",
    "    expressions if condition is true\n",
    "else:\n",
    "    expressions if condition is false\n",
    "</pre>\n",
    "\n",
    "### if / else if / else statement\n",
    "<pre>\n",
    "if condition1:\n",
    "    expressions if condition1 is true\n",
    "elif condition2:\n",
    "    expressions if condition1 is false but condition2 is true\n",
    "elif condition3:\n",
    "    expressions if condition1 and condition2 are false but condition3 is true\n",
    "...\n",
    "else:\n",
    "    expressions if condition1, condition2,... condition_n is false. The final else block is optional\n",
    "</pre>"
   ]
  },
  {
   "cell_type": "code",
   "execution_count": null,
   "metadata": {},
   "outputs": [],
   "source": [
    "print(\"Is 10 greater than 2?\")\n",
    "if 10 > 2:\n",
    "    print(\"of course 10 is greater than 2.\")\n",
    "\n",
    "print(\"everyone knows that!\")    "
   ]
  },
  {
   "cell_type": "code",
   "execution_count": null,
   "metadata": {},
   "outputs": [],
   "source": [
    "a = 10\n",
    "b = 2\n",
    "print(\"Is {} greater than {}?\".format(a,b))\n",
    "if 10 > 2:\n",
    "    print(\"of course {} is greater than {}.\".format(a,b))\n",
    "else:\n",
    "    print(\"No! {} is not greater than {}.\".format(a,b))\n",
    "print(\"everyone knows that!\")   "
   ]
  },
  {
   "cell_type": "markdown",
   "metadata": {},
   "source": [
    "## While loop\n",
    "<pre>\n",
    "while condition:\n",
    "    statements to run while the condition is true\n",
    "</pre>"
   ]
  },
  {
   "cell_type": "code",
   "execution_count": null,
   "metadata": {},
   "outputs": [],
   "source": [
    "print(\"Counting to 10\")\n",
    "i = 0\n",
    "while i<10:\n",
    "    print (i, end=\", \")  #the argument end will replace the new line (\\n) with something else. \n",
    "    i += 1               #the assignation operator += will add what is on the right side to the variable in the left side\n",
    "    \n",
    "print(\"\\n\\nA countdown from 10.\")     # \\n adds a new line.\n",
    "i = 10\n",
    "while i>0:\n",
    "    print (i, end=\", \")  #the argument end will replace the new line (\\n) with something else. \n",
    "    i -= 1               #the assignation operator -= will subtract what is on the right side to the variable in the left side\n",
    "    #Remember to modify the sentinel!\n",
    "    \n",
    "print(\"\\n\\nA countdown from 10.\")     # \\n adds a new line.\n",
    "i = 10\n",
    "keep_going=True\n",
    "while keep_going:\n",
    "    print (i, end=\", \")  #the argument end will replace the new line (\\n) with something else. \n",
    "    i -= 1               #the assignation operator -= will subtract what is on the right side to the variable in the left side\n",
    "    if i==-1:\n",
    "        keep_going=False\n",
    "    #Remember to modify the sentinel!\n"
   ]
  },
  {
   "attachments": {},
   "cell_type": "markdown",
   "metadata": {},
   "source": [
    "## For loop\n",
    "<pre>\n",
    "for &lt;var&gt; in &lt;count|list|iterable&gt;:\n",
    "    statemente to run for each element in the cycle list.\n",
    "</pre>\n",
    "For syntax is a little extranger that the ones we might be used to. \n",
    "\n",
    "## Range Function\n",
    "Generates a list of integer numbers within an interval.\n",
    "\n",
    "### range(start, stop, step)\n",
    "- by default start is 0 and step is 1. These two values are optional. \n",
    "- the interval is closed on the start but open on the stop. \n",
    "\n"
   ]
  },
  {
   "cell_type": "code",
   "execution_count": null,
   "metadata": {},
   "outputs": [],
   "source": [
    "for i in range(10):\n",
    "    print (i, end=\",\") "
   ]
  },
  {
   "cell_type": "code",
   "execution_count": null,
   "metadata": {},
   "outputs": [],
   "source": [
    "for i in range(2,100,2):\n",
    "    print (i, end=\",\") "
   ]
  },
  {
   "cell_type": "code",
   "execution_count": null,
   "metadata": {},
   "outputs": [],
   "source": [
    "for i in range(100,10,-10):\n",
    "    print (i, end=\",\") "
   ]
  },
  {
   "cell_type": "code",
   "execution_count": null,
   "metadata": {},
   "outputs": [],
   "source": [
    "for i in range(100,-100,-10):\n",
    "    print (i, end=\",\")  #the argument end will change the ending character. by default is a \\n \n",
    "    \n",
    "#Note the last value!"
   ]
  },
  {
   "cell_type": "markdown",
   "metadata": {},
   "source": [
    "# 5 - Strings"
   ]
  },
  {
   "cell_type": "code",
   "execution_count": null,
   "metadata": {},
   "outputs": [],
   "source": [
    "x = 1;  #this is a number\n",
    "print(x) \n",
    "x_str = str(x);  # This is the string representation of what's on x\n",
    "print(x_str)\n",
    "\n",
    "print(\"X is\", x, \".\", \"x =\", x) \n",
    "print(\"X is \" + x_str + \". \" + \"x = \" + x_str)"
   ]
  },
  {
   "cell_type": "code",
   "execution_count": null,
   "metadata": {},
   "outputs": [],
   "source": [
    "print(\"String concatenated with an int produces an error.\" + x)"
   ]
  },
  {
   "cell_type": "code",
   "execution_count": null,
   "metadata": {},
   "outputs": [],
   "source": [
    "a = \"printing something\"\n",
    "print(a)\n",
    "print(\"The value of a is \",a)\n",
    "print(\"The value of a is \" + str(a))\n",
    "print(\"The value of a is {0}\".format(a))\n",
    "print(\"The value of a is {var} and {arg1}\".format(arg1=\"no\", var=a)) # we are using named arguments!! to change the order. \n",
    "print(\"Argument 2:{1}, Argument 1:{0}\".format(\"var1\",\"var2\")) #indexes in Python start on 0!!\n"
   ]
  },
  {
   "cell_type": "markdown",
   "metadata": {},
   "source": [
    "## Getting the String Length"
   ]
  },
  {
   "cell_type": "code",
   "execution_count": null,
   "metadata": {},
   "outputs": [],
   "source": [
    "my_string = \"My dog's name is bob.\"\n",
    "print(len(my_string))"
   ]
  },
  {
   "cell_type": "markdown",
   "metadata": {},
   "source": [
    "## Manipulating the string as a sequence of characters\n",
    "We can use a string as just a string, or we can access it character by character. We can also cut parts of the string to generate substrings. \n",
    "We will discuss some of the most relevant ways to manipulate strings. _This is much relevant to data science applications as some times we need to process the data, which can be comma delimited or not_.\n",
    "\n",
    "Strings can be seen as an indexed array of characters. \n",
    "\n",
    "<img src=\"./files/strings_array.png\" width=\"50%\">\n",
    "\n",
    "we can access each character by using _object_[index]\n"
   ]
  },
  {
   "cell_type": "code",
   "execution_count": null,
   "metadata": {},
   "outputs": [],
   "source": [
    "my_string = \"This is my dog.\"\n",
    "print(\"My string is '{}'\".format(my_string))\n",
    "print(\"First two characters:\",my_string[0],\" & \" ,my_string[1])\n",
    "print(\"First and last characters:\",my_string[0],\" & \" ,my_string[len(my_string)-1])\n",
    "print(\"First and last characters:\",my_string[0],\" & \" ,my_string[-1])\n",
    "print(\"Last two characters:\",my_string[-1],\" & \" ,my_string[-2])\n",
    "print(\"\\nOne character per line\")\n",
    "for i in range(len(my_string)):\n",
    "    print(my_string[i])\n",
    "\n",
    "print(\"\\nSame Thing, but printing using negative indexes\")\n",
    "for i in range( -1*len(my_string),  0,  1):\n",
    "    print(my_string[i])\n",
    "\n",
    "print(\"\\nReversed String:\")\n",
    "for i in range( len(my_string)-1,  -1, -1):\n",
    "    print(my_string[i])\n"
   ]
  },
  {
   "cell_type": "markdown",
   "metadata": {},
   "source": [
    "## Slicing Strings\n",
    "A slice gives use part of the string\n",
    "<pre>object[start:stop:step]</pre>\n",
    "_Step is optional, by default is 1_"
   ]
  },
  {
   "cell_type": "code",
   "execution_count": null,
   "metadata": {},
   "outputs": [],
   "source": [
    "my_string = \"This is my dog.\"\n",
    "print(\"My string is '{}'\".format(my_string))\n",
    "\n",
    "row1=\"\"\n",
    "row2=\"\"\n",
    "row3=\"\"\n",
    "\n",
    "for i in range(len(my_string)):\n",
    "    row1 += \"|{:^5}\".format(my_string[i])\n",
    "    row2 += \"|{:^5}\".format(i)\n",
    "    row3 += \"|{:^5}\".format( (len(my_string)-i) *-1)\n",
    "\n",
    "row1 += \"|\"; row2 += \"|\";row3 += \"|\"\n",
    "row_header = (\"-\"*(len(my_string)*6+1) )\n",
    "print (row_header); print (row1);print (row_header);print (row2);print (row3);print (row_header);\n",
    "\n",
    "print(\"\\nFirst 10 characters\")\n",
    "print(\"a)'\"+my_string[:10:1]+\"'\")\n",
    "print(\"\\nLast 10 characters\")\n",
    "print(\"b1)'\"+my_string[(len(my_string))-10:len(my_string):1]+\"'\")\n",
    "print(\"b2)'\"+my_string[-10:-1:1]+\"'\")\n",
    "\n",
    "print(\"\\n2nd, 3rd, 4tg, 5th, 6th characters. Remember indicis start in 0 so is index 1 to 5 inclusie \")\n",
    "print(\"c)  '\"+my_string[1:6:1]+\"'\")\n",
    "print()\n",
    "print(\"d)  '\"+my_string[1:6:2]+\"'\")\n",
    "print(\"e)  '\"+my_string[6:1:-1]+\"'\")\n",
    "print()\n",
    "print(\"f1) '\"+my_string[::]+\"'\")\n",
    "print(\"f2) '\"+my_string[0:len(my_string):1]+\"'\")\n",
    "print()\n",
    "print(\"g1) '\"+my_string[::-1]+\"'\")\n",
    "print(\"h2) '\"+my_string[-1: -(len(my_string)+1) : -1]+\"'\")\n"
   ]
  },
  {
   "cell_type": "code",
   "execution_count": null,
   "metadata": {},
   "outputs": [],
   "source": [
    "my_string = \"This is my dog.\"\n",
    "print(\"My string is '{}'\".format(my_string))\n",
    "print(\"Printing each character:\")\n",
    "\n",
    "for char in my_string:\n",
    "      print(\"'\"+char+\"'\")"
   ]
  },
  {
   "cell_type": "markdown",
   "metadata": {},
   "source": [
    "## Strings are immutable\n",
    "We can get the third character by using _mystring[2]_, however, we cannot assing one individual character by saying __mystring[2]='c'__"
   ]
  },
  {
   "cell_type": "code",
   "execution_count": null,
   "metadata": {},
   "outputs": [],
   "source": [
    "my_string = \"This is my dog.\"\n",
    "print(my_string)\n",
    "try:\n",
    "    my_string[0]=\"t\"\n",
    "except:\n",
    "    print('my_string[0]=\"t\" does not work!!')\n",
    "          \n",
    "my_string = \"t\" + my_string[1:len(my_string)]\n",
    "print('But my_string = \"t\" + my_string[1:len(my_string)] will:')\n",
    "print(my_string)"
   ]
  },
  {
   "cell_type": "markdown",
   "metadata": {},
   "source": [
    "## Reading strings from the console"
   ]
  },
  {
   "cell_type": "code",
   "execution_count": null,
   "metadata": {},
   "outputs": [],
   "source": [
    "read_name = input(\"What's your name?\")\n",
    "print(read_name)\n",
    "read_age = int(input(\"What's your age?\"))\n",
    "print(read_age)\n",
    "print(\"{name} is {age} years old.\".format(age=read_age,name=read_name))"
   ]
  },
  {
   "cell_type": "code",
   "execution_count": null,
   "metadata": {},
   "outputs": [],
   "source": [
    "####################\n",
    "# Read two integer values from the user, and print if the first is greater, equal or less than the second\n",
    "#\n",
    "\n",
    "int1 = int(input(\"Enter value 1:\"))\n",
    "int2 = int(input(\"Enter value 2:\"))\n",
    "\n",
    "if int1 == int2:\n",
    "    print(\"Both values are equal.\")\n",
    "elif int1 > int2:\n",
    "    print(\"First value is greater than the second one.\")\n",
    "elif int1 < int2:\n",
    "    print(\"First value is less than the second one.\")"
   ]
  },
  {
   "cell_type": "markdown",
   "metadata": {},
   "source": [
    "# 6 - Controling Errors\n",
    "The previous code works well if the user input is the one expected. But in the case the user input a string when our program expects an integer, it will raise a runtime exception. \n",
    "In the same way we do in Java and C++ we can control exceptions."
   ]
  },
  {
   "cell_type": "code",
   "execution_count": null,
   "metadata": {},
   "outputs": [],
   "source": [
    "try:\n",
    "    # This is the code we want to protect\n",
    "    read_name = input(\"What's your name?\")\n",
    "    read_age  = int(input(\"What's your age?\"))\n",
    "except ValueError:\n",
    "    ##This code will execute in case of a ValueError exception\n",
    "    print(\"There was an error reading the age value. Try again.\")\n",
    "else:\n",
    "    # This code will execute at the end of the Try block only if no exception was raised.\n",
    "    print(\"{name} is {age} years old.\".format(age=read_age,name=read_name))"
   ]
  },
  {
   "cell_type": "markdown",
   "metadata": {},
   "source": [
    "### Block Structure\n",
    "As you noticed the block structure in Python is not delimited by __{}__ like C++ or Java. In Python, the blocks of code, like the one in the previous try or in an _IF_ statement is delimited by blanks (either spaces or tabs). How many? it doesn't matter, the code with the same level of indentation will be placed at the same level. \n",
    "\n",
    "Also, the sentences that declares the starting point of a block ends with a colon (__:__), like\n",
    "- __try:__ \n",
    "- __except ValueError:__\n",
    "\n",
    "__Note:__ to avoid strange behavior, use always the same spacer. If you use a single space, every space will mark a level. If you use tab, every tab will mark a level in the code. "
   ]
  },
  {
   "cell_type": "markdown",
   "metadata": {},
   "source": [
    "# 7 - Lists\n",
    "A list is basically an array list. The only caveats is that there is no type for the elements of the list, meaning that a list can hold integers, floats, strings and objects in general without any restriciton. "
   ]
  },
  {
   "cell_type": "code",
   "execution_count": null,
   "metadata": {},
   "outputs": [],
   "source": [
    "#Creating Lists\n",
    "a = [] \n",
    "print(\"List a:\",a)\n",
    "b = list()\n",
    "print(\"List b:\",b)\n",
    "c = [1,2,3]\n",
    "print(\"List c:\",c)\n",
    "\n",
    "d = [ 1, 2, \"John\"]\n",
    "print(\"List d:\",d)\n",
    "print(\"The type of d is:\",type(d))\n"
   ]
  },
  {
   "cell_type": "markdown",
   "metadata": {},
   "source": [
    "## Manipulating Lists\n",
    "List can append new elements, can be extended with other lists, elemens can be accessed in the same way we did for strings."
   ]
  },
  {
   "cell_type": "code",
   "execution_count": null,
   "metadata": {},
   "outputs": [],
   "source": [
    "e = [ 1, 2, c]\n",
    "print(\"List e:\",e)\n",
    "print(\"First element of list e:\",e[0])\n",
    "print(\"Last element of list e:\", e[-1])\n",
    "\n",
    "print(\"List e length is {}\".format(len(e)))\n",
    "\n",
    "print(\"\\nTraversing the list with for:\")\n",
    "print(\"-------------------------------\")\n",
    "for element in e:\n",
    "    print(element)\n",
    "    \n",
    "print(\"\\nTraversing the list using indexes:\")\n",
    "print(\"------------------------------------\")\n",
    "for index in range(len(e)):\n",
    "    print(\"element e[{}] is {}\".format(index,e[index]))\n",
    "\n",
    "print(\"\\nTraversing the list using enumerations:\")\n",
    "print(\"------------------------------------------\")\n",
    "for index, element in enumerate(e):\n",
    "    print(\"element e[{}] is {}\".format(index, element))\n",
    "    \n",
    "    \n",
    "    \n",
    "print(\"\\nChecking membership:\")\n",
    "print(\"--------------------\")\n",
    "if 2 in e:\n",
    "    print(\"integer 2 belongs to the list e\")\n",
    "    \n",
    "if not 3 in e:\n",
    "    print(\"integer 3 does not belong to the list e\")"
   ]
  },
  {
   "cell_type": "markdown",
   "metadata": {},
   "source": [
    "### list.append( )"
   ]
  },
  {
   "cell_type": "code",
   "execution_count": null,
   "metadata": {},
   "outputs": [],
   "source": [
    "d = [ 1, 2, ['a','b','c']]\n",
    "a=[]\n",
    "print(a)\n",
    "print(\"using append\")\n",
    "a.append(1) ##NOTICE THIS!\n",
    "print(a)\n",
    "a.append(2)\n",
    "a.append(d[2]) \n",
    "a.append(c)\n",
    "print(a)"
   ]
  },
  {
   "cell_type": "markdown",
   "metadata": {},
   "source": [
    "### list.extend( )"
   ]
  },
  {
   "cell_type": "code",
   "execution_count": null,
   "metadata": {},
   "outputs": [],
   "source": [
    "d = [ 1, 2, ['a','b','c']]\n",
    "a=[]\n",
    "print(a)\n",
    "a.append(1)\n",
    "a.append(2)\n",
    "a.append(d[2]) \n",
    "\n",
    "print(\"using extend\")\n",
    "a.extend([1,2,3])    ##NOTICE THIS!\n",
    "\n",
    "print(a)\n"
   ]
  },
  {
   "cell_type": "markdown",
   "metadata": {},
   "source": [
    "### list.insert( )"
   ]
  },
  {
   "cell_type": "code",
   "execution_count": null,
   "metadata": {},
   "outputs": [],
   "source": [
    "d = [ 1, 2, ['a','b','c']]\n",
    "a=[]\n",
    "print(a)\n",
    "a.append(1)\n",
    "a.append(2)\n",
    "a.append(d[2]) \n",
    "a.extend([1,2,3])    ##NOTICE THIS!\n",
    "\n",
    "print(a)\n",
    "\n",
    "print(\"using insert\")\n",
    "a.insert(1,['a','b'])   ##NOTICE THIS!\n",
    "\n",
    "print(a)\n",
    "\n",
    "##### NEW SYNTAX\n",
    "print(\"Create a list of the indicis where the element on the list 'a' is 2\")\n",
    "print([i for i, element in enumerate(a) if element == 2])\n"
   ]
  },
  {
   "cell_type": "markdown",
   "metadata": {},
   "source": [
    "### list.sort( ) & list.reverse( )"
   ]
  },
  {
   "cell_type": "code",
   "execution_count": null,
   "metadata": {},
   "outputs": [],
   "source": [
    "a=[1, 2, 1, 2, 3]\n",
    "print(a)\n",
    "print(\"Sorting list...\")\n",
    "a.sort()       ##This works inplace!!\n",
    "print (a)\n",
    "\n",
    "print(\"Reversing list...\")\n",
    "a.reverse()    ##This works inplace!!\n",
    "print(a)"
   ]
  },
  {
   "cell_type": "markdown",
   "metadata": {},
   "source": [
    "### list.count( ) & list.pop( )"
   ]
  },
  {
   "cell_type": "code",
   "execution_count": null,
   "metadata": {},
   "outputs": [],
   "source": [
    "a=[1, 2, 1, 2, 3]\n",
    "print(a)\n",
    "print(\"Element 1 appears {} times in a\".format(a.count(1))) ##COUNTING\n",
    "print(a)\n",
    "print(\"Pop:\",a.pop())    #Pops the element an returns it.\n",
    "print(a)"
   ]
  },
  {
   "cell_type": "markdown",
   "metadata": {},
   "source": [
    "## Zipping lists\n",
    "Allows to merge two or more lists element by element. "
   ]
  },
  {
   "cell_type": "code",
   "execution_count": null,
   "metadata": {},
   "outputs": [],
   "source": [
    "a = [1, 2, 3, 4]\n",
    "b = ['a', 'b', 'c', 'd']\n",
    "\n",
    "print(list(zip(a,b)))"
   ]
  },
  {
   "cell_type": "code",
   "execution_count": null,
   "metadata": {},
   "outputs": [],
   "source": [
    "latitudes     = [43.850857, 46.493919, 36.133411, 43.139229,43.838413, 45.536945,50.445210,49.104431 ]\n",
    "longitudes    = [-79.020370, -80.995415, -96.354454,-79.484901, -79.086761,-73.510712, -104.618896, -122.801094 ]\n",
    "canada_cities = [\"Ajax, ON, Canada\",\"Sudbury, ON, Canada\",\"Mannford, OK, USA\",\"Lincoln, ON, Canada\",\"Pickering, ON, Canada\",\"Longueuil, QC, Canada\",\n",
    "                 \"Regina, SK, Canada\",\"Surrey, BC, Canada\"]\n",
    "\n",
    "\n",
    "################\n",
    "# Example\n",
    "# \n",
    "# merge city name with its coordinates.\n",
    "#\n",
    "\n",
    "'''\n",
    "The Output should be:\n",
    "('Ajax, ON, Canada', 43.850857, -79.02037)\n",
    "('Sudbury, ON, Canada', 46.493919, -80.995415)\n",
    "('Mannford, OK, USA', 36.133411, -96.354454)\n",
    "('Lincoln, ON, Canada', 43.139229, -79.484901)\n",
    "('Pickering, ON, Canada', 43.838413, -79.086761)\n",
    "('Longueuil, QC, Canada', 45.536945, -73.510712)\n",
    "('Regina, SK, Canada', 50.44521, -104.618896)\n",
    "('Surrey, BC, Canada', 49.104431, -122.801094)\n",
    "'''\n",
    "\n",
    "for a_tuple in list(zip(canada_cities,latitudes,longitudes)):\n",
    "    print(a_tuple)\n"
   ]
  },
  {
   "cell_type": "markdown",
   "metadata": {},
   "source": [
    "## Creating New List from other Lists using for\n"
   ]
  },
  {
   "cell_type": "code",
   "execution_count": null,
   "metadata": {},
   "outputs": [],
   "source": [
    "my_data = [10,20,33,44]; \n",
    "my_list = []\n",
    "print(\"Original Values:\")\n",
    "print(my_data)\n",
    "\n",
    "print(\"\\nSquare values of the original list:\")\n",
    "for elem in my_data :\n",
    "    my_list.append(elem **2)\n",
    "\n",
    "print(my_list)\n"
   ]
  },
  {
   "cell_type": "code",
   "execution_count": null,
   "metadata": {},
   "outputs": [],
   "source": [
    "my_data = [10,20,33,44]; \n",
    "my_list = []\n",
    "print(\"Original Values:\")\n",
    "print(my_data)\n",
    "\n",
    "print(\"\\nSquare values of the original list:\")\n",
    "\n",
    "my_list = [elem**2 for elem in my_data ]\n",
    "\n",
    "print(my_list)\n"
   ]
  },
  {
   "attachments": {},
   "cell_type": "markdown",
   "metadata": {},
   "source": [
    "# 8 - Tuples\n",
    "\n",
    "- Tuples are objects that can store a specific number of other objects in order. \n",
    "- They are **immutable**, if you need to modify a tuple, you're using the wrong data type \n",
    "- The primary benefit of tuples' immutability is that we can use them as keys in dictionaries\n",
    "- Tuples are used to store data; behavior cannot be stored in a tuple \n"
   ]
  },
  {
   "cell_type": "code",
   "execution_count": null,
   "metadata": {},
   "outputs": [],
   "source": [
    "stock = \"FB\", 75.00,75.03,74.90\n",
    "print(stock)\n",
    "print(type(stock))\n",
    "\n",
    "stock = (\"FB\", 75.00,75.03,74.90)\n",
    "print(stock)\n",
    "print(type(stock))\n"
   ]
  },
  {
   "cell_type": "code",
   "execution_count": null,
   "metadata": {},
   "outputs": [],
   "source": [
    "def middle(stock):\n",
    "    symbol, current, high, low = stock\n",
    "    return (symbol,((high+low)/2))\n",
    "\n",
    "\n",
    "my_stock = (\"FB\", 75.00,75.03,74.90)\n",
    "\n",
    "symbol,mid_value = middle(my_stock)\n",
    "\n",
    "print(\"The middle value for {0} is {1}\".format(symbol,mid_value))"
   ]
  },
  {
   "cell_type": "code",
   "execution_count": null,
   "metadata": {},
   "outputs": [],
   "source": [
    "my_stock = (\"FB\", 75.00,75.03,74.90)\n",
    "print(\"The high value for {0} is {1}\".format(my_stock[0],my_stock[3]))"
   ]
  },
  {
   "attachments": {},
   "cell_type": "markdown",
   "metadata": {},
   "source": [
    "# 9 - Dictionary\n",
    "\n",
    "- A dictionary stores data based on a key. **Are also known as key-value data structures**\n",
    "- Dictionaries are extremely efficient at looking up a value, given a specific key object that maps to that value. \n",
    "- Dictionaries should always be used when you want to find one object based on some other object. \n",
    "    - The object that is being stored is called the **value**; \n",
    "    - the object that is being used as an index is called the **key**.\n",
    "- Dictionaries can be created either using the **dict()** constructor or using the **{ }** syntax shortcut. \n",
    "\n"
   ]
  },
  {
   "cell_type": "code",
   "execution_count": null,
   "metadata": {},
   "outputs": [],
   "source": [
    "stocks = {\n",
    "    \"GOOG\" : (613.3,625.86,610.5),\n",
    "    \"MSFT\" : (30.25,30.70,30.19)\n",
    "}\n",
    "\n",
    "print(stocks)"
   ]
  },
  {
   "cell_type": "code",
   "execution_count": null,
   "metadata": {},
   "outputs": [],
   "source": [
    "print(stocks[\"GOOG\"])"
   ]
  },
  {
   "cell_type": "code",
   "execution_count": null,
   "metadata": {},
   "outputs": [],
   "source": [
    "print(stocks[\"FB\"])"
   ]
  },
  {
   "cell_type": "code",
   "execution_count": null,
   "metadata": {},
   "outputs": [],
   "source": [
    "print(stocks.get(\"GOOG\",(0,0,0)))\n",
    "print(stocks.get(\"FB\",(0,0,0)))"
   ]
  },
  {
   "cell_type": "code",
   "execution_count": null,
   "metadata": {},
   "outputs": [],
   "source": [
    "print(stocks)\n",
    "stocks.setdefault(\"GOOG\",(0,0,0))\n",
    "print(stocks)\n",
    "stocks.setdefault(\"BBRY\",(0,0,0))\n",
    "print(stocks)"
   ]
  },
  {
   "cell_type": "code",
   "execution_count": null,
   "metadata": {},
   "outputs": [],
   "source": [
    "print(\"Assigning new values\")\n",
    "print(stocks)\n",
    "stocks[\"BBRY\"] = (30.6, 80.6, 90.5)\n",
    "print(stocks)"
   ]
  },
  {
   "cell_type": "code",
   "execution_count": null,
   "metadata": {},
   "outputs": [],
   "source": [
    "print(\"Traversing dictionaries\")\n",
    "for stock,values in stocks.items():\n",
    "    print(\"{} last value is {}\".format(stock,values[0]))"
   ]
  },
  {
   "attachments": {},
   "cell_type": "markdown",
   "metadata": {},
   "source": [
    "# 10 - Sets\n",
    "\n",
    "- Sets come from mathematics, where they represent an unordered group of unique numbers. \n",
    "- We can add a number to a set five times, but it will show up in the set only once. \n",
    "\n",
    "- Sets can hold any hashable object, not just numbers. \n",
    "An object to be hashable must be unmmutable, e.g. _strings and tuples_!\n"
   ]
  },
  {
   "cell_type": "code",
   "execution_count": null,
   "metadata": {},
   "outputs": [],
   "source": [
    "song_library= [\n",
    "    (\"Phantom Of The Opera\", \"Sarah Brightman\"),\n",
    "    (\"Knocking On Heaven's Door\", \"Guns N' Roses\"),\n",
    "    (\"November Rain\", \"Guns N' Roses\")\n",
    "]\n",
    "\n",
    "print (song_library)\n",
    "print (type(song_library))"
   ]
  },
  {
   "cell_type": "code",
   "execution_count": null,
   "metadata": {},
   "outputs": [],
   "source": [
    "artists_list = [artist for song,artist in song_library]\n",
    "print (\"Artist List\")\n",
    "print (artists_list)\n",
    "\n",
    "print(\"making artists a set\")\n",
    "artists = set(artists_list)\n",
    "print(artists)\n",
    "print(\"No duplicates!!\")\n",
    "\n"
   ]
  },
  {
   "cell_type": "markdown",
   "metadata": {},
   "source": [
    "<hr/>\n"
   ]
  }
 ],
 "metadata": {
  "kernelspec": {
   "display_name": "Python 3",
   "language": "python",
   "name": "python3"
  },
  "language_info": {
   "codemirror_mode": {
    "name": "ipython",
    "version": 3
   },
   "file_extension": ".py",
   "mimetype": "text/x-python",
   "name": "python",
   "nbconvert_exporter": "python",
   "pygments_lexer": "ipython3",
   "version": "3.7.1"
  }
 },
 "nbformat": 4,
 "nbformat_minor": 2
}

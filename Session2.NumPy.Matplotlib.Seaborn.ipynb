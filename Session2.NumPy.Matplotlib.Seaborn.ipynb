{
 "cells": [
  {
   "cell_type": "markdown",
   "metadata": {},
   "source": [
    "# __Introduction to Python for Data Science__\n",
    "## _CSE Mentor Program - University of Colorado, Denver. Spring-2019_"
   ]
  },
  {
   "cell_type": "markdown",
   "metadata": {},
   "source": [
    "This workshop is intended to introduce Python to Undergrad and Graduate students in the context of Data Science techniques. \n",
    "\n",
    "During three sessions we will covering the basis of the Python Language, the use of Pandas to access and manipulate data and the Scikit-Learn library to do some basic analysis. "
   ]
  },
  {
   "cell_type": "markdown",
   "metadata": {},
   "source": [
    "# Session 2 - Introduction to NumPy and MatplotLib\n",
    "In this session we will focus on NumPy, a library designed for manage numeric data, and Matplotlib, a library designed for plotting datasets  "
   ]
  },
  {
   "cell_type": "markdown",
   "metadata": {},
   "source": [
    "<hr/>\n"
   ]
  },
  {
   "cell_type": "code",
   "execution_count": null,
   "metadata": {},
   "outputs": [],
   "source": [
    "import numpy as np   #After running this line np will reference the numpy class\n",
    "\n",
    "\n",
    "import matplotlib as mpl\n",
    "import matplotlib.pyplot as plt\n",
    "import matplotlib.style as mplstyle\n",
    "\n",
    "\n",
    "import seaborn as sns"
   ]
  },
  {
   "cell_type": "markdown",
   "metadata": {},
   "source": [
    "# NumPy\n",
    "This class allows to manipulate large single or multi-dimensional arrays of numbers. \n",
    "\n",
    "To use numpy, we need to import the library package.\n"
   ]
  },
  {
   "cell_type": "code",
   "execution_count": null,
   "metadata": {},
   "outputs": [],
   "source": []
  },
  {
   "cell_type": "code",
   "execution_count": null,
   "metadata": {},
   "outputs": [],
   "source": [
    "a = np.array([1,2,3,4])\n",
    "print(\"Array a:\",a)\n",
    "print(\"a is of type\", type(a))\n",
    "print(\"a elements data type is:\",a.dtype)"
   ]
  },
  {
   "cell_type": "code",
   "execution_count": null,
   "metadata": {},
   "outputs": [],
   "source": [
    "a = np.array([1.0,2,3,4])\n",
    "print(\"Array a:\",a)\n",
    "print(\"a is of type\", type(a))\n",
    "print(\"a elements data type is:\",a.dtype)\n",
    "print(\"\\n>>> Note the difference between a in this cell and a in the previous one <<<\")"
   ]
  },
  {
   "cell_type": "code",
   "execution_count": null,
   "metadata": {},
   "outputs": [],
   "source": [
    "a = np.array([(1,2),(3,4),(5,6),(7,8)])\n",
    "print (\"Matrix A:\")\n",
    "print(a)\n",
    "print()\n",
    "print(\"A has type:\",type(a))\n",
    "print(\"A datatype is:\",a.dtype)\n",
    "print(\"A shape is :\",a.shape)\n",
    "print()\n",
    "print(\"First Row:\",a[0], type(a[0]))\n",
    "print(\"First Element:\",a[0][0], type(a[0][0]))"
   ]
  },
  {
   "cell_type": "code",
   "execution_count": null,
   "metadata": {},
   "outputs": [],
   "source": [
    "zeros=np.zeros((2,3))\n",
    "print(\"Zeros Matrix\")\n",
    "print(zeros)         #2 rows, 3columns\n",
    "print(\"zeros's shape:\",zeros.shape)\n",
    "print()\n",
    "ones=np.ones((2,3))\n",
    "print(\"Ones Matrix\")\n",
    "print(ones)\n",
    "print(\"ones's shape:\",ones.shape)\n",
    "print()\n",
    "empty=np.empty( (5,9) )\n",
    "print(\"Un-Initialized Matrix\")\n",
    "print(empty)   #try new dimensions\n",
    "print(\"empty's shape:\",empty.shape)\n",
    "print()\n",
    "multi_dim = np.ones((5,4,3))\n",
    "print(\"Multi-Dimensional Matrix\")\n",
    "print(multi_dim)   #try new dimensions\n",
    "print(\"multi_dim's shape:\",multi_dim.shape)\n",
    "print()\n",
    "two_dim = multi_dim.reshape(2,30)\n",
    "print(\"Multi-Dimensional Matrix Re-shaped as (2,30)\")\n",
    "print(two_dim)   #try new dimensions\n",
    "print(\"two_dim's shape:\",two_dim.shape)\n",
    "print()\n",
    "for i in range(2):\n",
    "    for j in range(30):\n",
    "        two_dim[i][j]=(30*i)+(j+1)\n",
    "print(\"New Two Dimensional\")\n",
    "print(two_dim)   #try new dimensions\n",
    "print(\"Back to multi-dimensional\")\n",
    "print(two_dim.reshape(5,4,3))"
   ]
  },
  {
   "cell_type": "markdown",
   "metadata": {},
   "source": [
    "#### Playing with $\\pi$"
   ]
  },
  {
   "cell_type": "code",
   "execution_count": null,
   "metadata": {},
   "outputs": [],
   "source": [
    "print(np.pi)"
   ]
  },
  {
   "cell_type": "code",
   "execution_count": null,
   "metadata": {},
   "outputs": [],
   "source": [
    "linear_space=np.linspace( 0, 2, 9 )\n",
    "print(\"Linear space of 9 numbers from 0 to 2\", linear_space )\n",
    "print(linear_space*np.pi)"
   ]
  },
  {
   "cell_type": "code",
   "execution_count": null,
   "metadata": {},
   "outputs": [],
   "source": [
    "x = np.linspace( 0, 2*pi, 20 ) #20 values from 0 to 2Pi\n",
    "y = np.sin(x)   #Compute the funcion sin(x) for the values of x\n",
    "print(\"\\nX valueS:\\n\",x)\n",
    "print(\"\\nsin(x) values:\\n\",y)\n",
    "print(\"\\n(x,y) values for (x,sin(x)):\\n\",np.array(list(zip(x,y))))\n",
    "plt.plot(x,y)"
   ]
  },
  {
   "cell_type": "code",
   "execution_count": null,
   "metadata": {},
   "outputs": [],
   "source": [
    "x = np.arange(100)\n",
    "print(x)\n",
    "y = x.reshape(10,10)\n",
    "print(\"\\nArray re-shaped as a 10x10 matrix:\")\n",
    "print(y)"
   ]
  },
  {
   "cell_type": "code",
   "execution_count": null,
   "metadata": {},
   "outputs": [],
   "source": [
    "A = np.arange(25).reshape(5,5)\n",
    "B = np.arange(25).reshape(5,5)\n",
    "print(A)\n",
    "print()\n",
    "print(B)\n",
    "print()\n",
    "print(\"A squared (element wise):\\n\",A**2)\n",
    "print()\n",
    "print(\"Element wise product:\\n\",A*B)\n",
    "print()\n",
    "print(\"Dot product:\\n\",A.dot(B))"
   ]
  },
  {
   "cell_type": "code",
   "execution_count": null,
   "metadata": {},
   "outputs": [],
   "source": [
    "A = np.arange(25).reshape(5,5)\n",
    "B = np.arange(5).reshape(5)\n",
    "print(\"Matrix A\")\n",
    "print(A)\n",
    "print()\n",
    "print(\"Vector B\")\n",
    "print(B)\n",
    "print()\n",
    "print(\"A.B\")\n",
    "print(A.dot(B))"
   ]
  },
  {
   "cell_type": "code",
   "execution_count": null,
   "metadata": {},
   "outputs": [],
   "source": [
    "A = np.random.random((2,3))\n",
    "print(\"Random Matrix A\")\n",
    "print(A)\n",
    "print()\n",
    "print(\"Sum of elements of A:\",A.sum())\n",
    "print(\"Sum of first row of A:\",A[0].sum())\n",
    "print()\n",
    "print(\"Number of elements of first row of A:\",A[0].size)\n",
    "print()\n",
    "print(\"Max of elements of A:\",A.max())\n",
    "print(\"Min of elements of A:\",A.min())\n",
    "print()\n",
    "print(\"Matrix A\")\n",
    "print(A)\n",
    "print()\n",
    "print(\"Matrix A + 1 element wise\")\n",
    "A += 1\n",
    "print(A)\n",
    "\n",
    "print()\n",
    "print(\"Matrix A * 2 element wise\")\n",
    "A *= 2\n",
    "print(A)"
   ]
  },
  {
   "cell_type": "markdown",
   "metadata": {},
   "source": [
    "# Matplotlib "
   ]
  },
  {
   "cell_type": "code",
   "execution_count": null,
   "metadata": {},
   "outputs": [],
   "source": [
    "def styleReset():\n",
    "    mpl.rcParams.update(mpl.rcParamsDefault)"
   ]
  },
  {
   "cell_type": "markdown",
   "metadata": {},
   "source": [
    "## A plot generated by matplotlib has the following components:\n",
    "\n",
    "<span style=\"border:5px solid black\"><img src=\"./files/anatomy.png\" style=\"width:50%;border:5px solid black\"></span>\n"
   ]
  },
  {
   "cell_type": "code",
   "execution_count": null,
   "metadata": {},
   "outputs": [],
   "source": [
    "styleReset()\n",
    "x = [10,20,30,40,50]\n",
    "y = [1,2,6,8,16]\n",
    "\n",
    "plt.plot(x, y, label='myFunction')\n",
    "\n",
    "plt.xlabel('x value')\n",
    "plt.ylabel('y value')\n",
    "plt.minorticks_on()   #plt.minorticks_off()\n",
    "\n",
    "plt.title(\"My plot\")\n",
    "\n",
    "plt.legend()\n",
    "\n",
    "plt.show()"
   ]
  },
  {
   "cell_type": "code",
   "execution_count": null,
   "metadata": {},
   "outputs": [],
   "source": [
    "styleReset()\n",
    "x = [0,1,2,3,4]\n",
    "y = [1,2,4,8,16]\n",
    "z = np.pi*(np.array(x)**2)\n",
    "\n",
    "plt.scatter(x, y, label='2^n', marker=\"x\")\n",
    "plt.scatter(x, z, label='area comp', marker=\"o\")\n",
    "\n",
    "plt.xlabel('x value')\n",
    "plt.ylabel('y value')\n",
    "\n",
    "plt.title(\"My Scatter Plot\")\n",
    "\n",
    "plt.legend()\n",
    "\n",
    "plt.show()"
   ]
  },
  {
   "cell_type": "code",
   "execution_count": null,
   "metadata": {},
   "outputs": [],
   "source": [
    "styleReset()\n",
    "x = np.linspace(0, 2, 100)\n",
    "\n",
    "plt.plot(x, x,    label='linear')\n",
    "plt.plot(x, x**2, label='quadratic')\n",
    "plt.plot(x, x**3, label='cubic')\n",
    "\n",
    "plt.xlabel('x value')\n",
    "plt.ylabel('f(x) value')\n",
    "\n",
    "plt.title(\"Function Comparison\")\n",
    "\n",
    "plt.legend()\n",
    "\n",
    "plt.show()"
   ]
  },
  {
   "cell_type": "code",
   "execution_count": null,
   "metadata": {},
   "outputs": [],
   "source": [
    "styleReset()\n",
    "x = np.linspace(0, 2, 20)\n",
    "plt.plot(x, x,    \"r--\", label='linear')\n",
    "plt.plot(x, x**2, \"bs\",  label='quadratic')\n",
    "plt.plot(x, x**3, \"g^\",  label='cubic')\n",
    "\n",
    "plt.xlabel('x value')\n",
    "plt.ylabel('f(x) value')\n",
    "\n",
    "plt.title(\"Function Comparison\")\n",
    "\n",
    "plt.legend()\n",
    "\n",
    "plt.show()"
   ]
  },
  {
   "cell_type": "code",
   "execution_count": null,
   "metadata": {},
   "outputs": [],
   "source": [
    "x = np.arange(0, 10, 0.2)\n",
    "y = np.sin(x)\n",
    "fig, ax = plt.subplots(1,2)\n",
    "\n",
    "\n",
    "ax[0].plot(x, y, marker='x')\n",
    "ax[1].plot(x, np.cos(x), marker='o')\n",
    "\n",
    "plt.show()"
   ]
  },
  {
   "cell_type": "code",
   "execution_count": null,
   "metadata": {},
   "outputs": [],
   "source": [
    "\n",
    "mplstyle.use(['dark_background', 'ggplot', 'fast'])\n",
    "\n",
    "x = np.arange(0, 10, 0.2)\n",
    "y = np.sin(x)\n",
    "fig, ax = plt.subplots(1,2)\n",
    "\n",
    "ax[0].plot(x, y, marker='x')\n",
    "ax[1].plot(x, np.cos(x), marker='o')\n",
    "\n",
    "\n",
    "plt.show()\n",
    "\n",
    "styleReset()"
   ]
  },
  {
   "cell_type": "code",
   "execution_count": null,
   "metadata": {},
   "outputs": [],
   "source": [
    "styleReset()\n",
    "mplstyle.use([ 'ggplot', 'fast'])\n",
    "\n",
    "data = {'a': np.arange(50),\n",
    "        'c': np.random.randint(0, 50, 50),\n",
    "        'd': np.random.randn(50)}\n",
    "\n",
    "data['b'] = data['a'] + 10 * np.random.randn(50)\n",
    "\n",
    "data['d'] = np.abs(data['d']) * 100\n",
    "\n",
    "plt.scatter('a', 'b', c='c', s='d', data=data)  #C: color s:Scale\n",
    "plt.xlabel('entry a')\n",
    "plt.ylabel('entry b')\n",
    "plt.show()\n"
   ]
  },
  {
   "cell_type": "code",
   "execution_count": null,
   "metadata": {},
   "outputs": [],
   "source": [
    "styleReset()\n",
    "\n",
    "names = ['group_a', 'group_b', 'group_c']\n",
    "values = [1, 10, 100]\n",
    "\n",
    "plt.figure(1, figsize=(9,3))     #Figure of 9inches wide, 3 inches tall.\n",
    "\n",
    "plt.subplot(131)   #1 row, 3 columns, 1st plot\n",
    "plt.bar(names, values)\n",
    "plt.subplot(132)   #1 row, 3 columns, 2nd plot\n",
    "plt.scatter(names, values)\n",
    "plt.subplot(133)   #1 row, 3 columns, 3rd plot\n",
    "plt.plot(names, values)\n",
    "\n",
    "plt.suptitle('Categorical Plotting')\n",
    "plt.show()\n"
   ]
  },
  {
   "cell_type": "code",
   "execution_count": null,
   "metadata": {},
   "outputs": [],
   "source": [
    "import matplotlib.gridspec as gridspec\n",
    "\n",
    "fig1 = plt.figure(num=1, figsize=(50,20))\n",
    "cols = 3\n",
    "rows = 2\n",
    "\n",
    "\n",
    "x = np.linspace(0.1,100,200)\n",
    "y = []; names = []\n",
    "y.append(np.sin(x)); names.append(\"sin(x)\")\n",
    "y.append(np.cos(x)); names.append(\"cos(x)\")\n",
    "y.append(np.tan(x)); names.append(\"tan(x)\")\n",
    "y.append(np.log(x)); names.append(\"log(x)\")\n",
    "y.append(np.log10(x)); names.append(\"log10(x)\")\n",
    "y.append(np.log2(x)); names.append(\"log2(x)\")\n",
    "\n",
    "\n",
    "gs = gridspec.GridSpec(rows, cols)\n",
    "\n",
    "ax = []\n",
    "for i in range(6):\n",
    "    row = (i // cols)\n",
    "    col = i % cols\n",
    "    ax.append(fig1.add_subplot(gs[row, col]))\n",
    "    ax[-1].set_title(names[i])\n",
    "    ax[-1].plot(x, y[i])\n",
    "    #plt.yscale('symlog')"
   ]
  },
  {
   "cell_type": "markdown",
   "metadata": {},
   "source": [
    "### Mark points on the line.\n",
    "the plot argument markevery allow to add a mark every some number of elements. \n",
    "\n",
    "__markevery__: None or int or (int, int) or slice or List[int] or float or (float, float)\n",
    "Which markers to plot.\n",
    "\n",
    "- every=None, every point will be plotted.\n",
    "- every=N, every N-th marker will be plotted starting with marker 0.\n",
    "- every=(start, N), every N-th marker, starting at point start, will be plotted.\n",
    "- every=slice(start, end, N), every N-th marker, starting at point start, up to but not including point end, will be plotted.\n",
    "- every=[i, j, m, n], only markers at points i, j, m, and n will be plotted.\n",
    "- every=0.1, (i.e. a float) then markers will be spaced at approximately equal distances along the line; the distance along the line between markers is determined by multiplying the display-coordinate distance of the axes bounding-box diagonal by the value of every.\n",
    "- every=(0.5, 0.1) (i.e. a length-2 tuple of float), the same functionality as every=0.1 is exhibited but the first marker will be 0.5 multiplied by the display-cordinate-diagonal-distance along the line.\n",
    "\n"
   ]
  },
  {
   "cell_type": "code",
   "execution_count": null,
   "metadata": {},
   "outputs": [],
   "source": [
    "styleReset()\n",
    "# define a list of markevery cases to plot\n",
    "cases = [None,\n",
    "         8,\n",
    "         (30, 8),\n",
    "         [16, 24, 30], [0, -1],\n",
    "         slice(100, 200, 3),\n",
    "         0.1, 0.3, 1.5,\n",
    "         (0.0, 0.1), (0.45, 0.1)]\n",
    "\n",
    "# define the figure size and grid layout properties\n",
    "figsize = (20, 16)\n",
    "cols = 3\n",
    "gs = gridspec.GridSpec(len(cases) // cols + 1, cols)\n",
    "gs.update(hspace=0.4)\n",
    "\n",
    "# define the data for cartesian plots\n",
    "delta = 0.11\n",
    "x = np.linspace(0, 10 - 2 * delta, 200) + delta\n",
    "y = np.sin(x) + 1.0 + delta"
   ]
  },
  {
   "cell_type": "code",
   "execution_count": null,
   "metadata": {},
   "outputs": [],
   "source": [
    "fig1 = plt.figure(num=1, figsize=figsize)\n",
    "ax = []\n",
    "for i, case in enumerate(cases):\n",
    "    row = (i // cols)\n",
    "    col = i % cols\n",
    "    ax.append(fig1.add_subplot(gs[row, col]))\n",
    "    ax[-1].set_title('markevery=%s' % str(case))\n",
    "    ax[-1].plot(x, y, 'o', ls='-', ms=4, markevery=case)"
   ]
  },
  {
   "cell_type": "code",
   "execution_count": null,
   "metadata": {},
   "outputs": [],
   "source": [
    "fig2 = plt.figure(num=2, figsize=figsize)\n",
    "axlog = []\n",
    "mplstyle.use(['dark_background', 'ggplot'])\n",
    "\n",
    "for i, case in enumerate(cases):\n",
    "    row = (i // cols)\n",
    "    col = i % cols\n",
    "    axlog.append(fig2.add_subplot(gs[row, col]))\n",
    "    axlog[-1].set_title('markevery=%s' % str(case))\n",
    "    axlog[-1].set_xscale('log')\n",
    "    axlog[-1].set_yscale('log')\n",
    "    axlog[-1].plot(x, y, 'o', ls='-', ms=4, markevery=case)\n",
    "\n"
   ]
  },
  {
   "cell_type": "code",
   "execution_count": null,
   "metadata": {},
   "outputs": [],
   "source": [
    "fig3 = plt.figure(num=4, figsize=figsize)\n",
    "\n",
    "# define data for polar plots\n",
    "r = np.linspace(0, 3.0, 200)\n",
    "theta = 2 * np.pi * r\n",
    "\n",
    "axpolar = []\n",
    "for i, case in enumerate(cases):\n",
    "    row = (i // cols)\n",
    "    col = i % cols\n",
    "    axpolar.append(fig3.add_subplot(gs[row, col], projection='polar'))\n",
    "    axpolar[-1].set_title('markevery=%s' % str(case))\n",
    "    axpolar[-1].plot(theta, r, 'o', ls='-', ms=4, markevery=case)\n",
    "\n",
    "plt.show()"
   ]
  },
  {
   "cell_type": "code",
   "execution_count": null,
   "metadata": {},
   "outputs": [],
   "source": [
    "styleReset()"
   ]
  },
  {
   "cell_type": "code",
   "execution_count": null,
   "metadata": {},
   "outputs": [],
   "source": []
  },
  {
   "cell_type": "code",
   "execution_count": null,
   "metadata": {},
   "outputs": [],
   "source": []
  },
  {
   "cell_type": "code",
   "execution_count": null,
   "metadata": {},
   "outputs": [],
   "source": []
  },
  {
   "cell_type": "markdown",
   "metadata": {},
   "source": [
    "# SeaBorn\n",
    "Seaborn is a Python data visualization library based on matplotlib. It provides a high-level interface for drawing __attractive and informative statistical graphics__.\n",
    "\n",
    "https://seaborn.pydata.org"
   ]
  },
  {
   "cell_type": "code",
   "execution_count": null,
   "metadata": {},
   "outputs": [],
   "source": [
    "#Load fmri (Functional magnetic resonance imaging) dataset\n",
    "fmri = sns.load_dataset(\"fmri\")"
   ]
  },
  {
   "cell_type": "code",
   "execution_count": null,
   "metadata": {},
   "outputs": [],
   "source": [
    "fmri[90:100]"
   ]
  },
  {
   "cell_type": "markdown",
   "metadata": {},
   "source": [
    "## Relationship plots\n",
    "Statistical analysis is a process of understanding how variables in a dataset relate to each other and how those relationships depend on other variables. \n",
    "Visualization can be a core component of this process because, when data are visualized properly, the human visual system can see trends and patterns that indicate a relationship."
   ]
  },
  {
   "cell_type": "code",
   "execution_count": null,
   "metadata": {},
   "outputs": [],
   "source": [
    "# Plotting subsets of data with semantic mappings\n",
    "sns.relplot(x=\"timepoint\", y=\"signal\", hue=\"region\", style=\"event\", kind=\"line\", data=fmri);"
   ]
  },
  {
   "cell_type": "markdown",
   "metadata": {},
   "source": [
    "## Categorical Plot"
   ]
  },
  {
   "cell_type": "code",
   "execution_count": null,
   "metadata": {},
   "outputs": [],
   "source": [
    "#Tips Dataset\n",
    "tips = sns.load_dataset(\"tips\")\n",
    "tips[:10]"
   ]
  },
  {
   "cell_type": "code",
   "execution_count": null,
   "metadata": {},
   "outputs": [],
   "source": [
    "\n",
    "sns.catplot(x=\"day\", y=\"total_bill\", data=tips);"
   ]
  },
  {
   "cell_type": "code",
   "execution_count": null,
   "metadata": {},
   "outputs": [],
   "source": [
    "sns.catplot(x=\"day\", y=\"total_bill\", kind=\"swarm\", data=tips);"
   ]
  },
  {
   "cell_type": "code",
   "execution_count": null,
   "metadata": {},
   "outputs": [],
   "source": [
    "sns.catplot(x=\"day\", y=\"total_bill\", hue=\"sex\", kind=\"swarm\", data=tips);"
   ]
  },
  {
   "cell_type": "code",
   "execution_count": null,
   "metadata": {},
   "outputs": [],
   "source": [
    "sns.catplot(x=\"size\", y=\"total_bill\", kind=\"swarm\", data=tips.query(\"size != 3\"));"
   ]
  },
  {
   "cell_type": "code",
   "execution_count": null,
   "metadata": {},
   "outputs": [],
   "source": [
    "sns.catplot(x=\"smoker\", y=\"tip\", order=[\"No\", \"Yes\"], data=tips);"
   ]
  },
  {
   "cell_type": "markdown",
   "metadata": {},
   "source": [
    "## Distribution Plots"
   ]
  },
  {
   "cell_type": "markdown",
   "metadata": {},
   "source": [
    "### BoxPlots\n",
    "This kind of plot shows the three quartile values of the distribution along with extreme values\n"
   ]
  },
  {
   "cell_type": "code",
   "execution_count": null,
   "metadata": {},
   "outputs": [],
   "source": [
    "\n",
    "sns.catplot(x=\"day\", y=\"total_bill\", kind=\"box\", data=tips);"
   ]
  },
  {
   "cell_type": "code",
   "execution_count": null,
   "metadata": {},
   "outputs": [],
   "source": [
    "sns.catplot(x=\"day\", y=\"total_bill\", hue=\"smoker\", kind=\"box\", data=tips);"
   ]
  },
  {
   "cell_type": "code",
   "execution_count": null,
   "metadata": {},
   "outputs": [],
   "source": [
    "sns.catplot(x=\"sex\", y=\"total_bill\", hue=\"time\", kind=\"bar\", data=tips);"
   ]
  },
  {
   "cell_type": "markdown",
   "metadata": {},
   "source": [
    "### Plotting univariate distributions"
   ]
  },
  {
   "cell_type": "code",
   "execution_count": null,
   "metadata": {},
   "outputs": [],
   "source": [
    "sns.distplot(tips.tip);"
   ]
  },
  {
   "cell_type": "markdown",
   "metadata": {},
   "source": [
    "### Plotting bivariate distributions¶"
   ]
  },
  {
   "cell_type": "code",
   "execution_count": null,
   "metadata": {},
   "outputs": [],
   "source": [
    "sns.jointplot(x=\"tip\", y=\"total_bill\", data=tips);"
   ]
  },
  {
   "cell_type": "code",
   "execution_count": null,
   "metadata": {},
   "outputs": [],
   "source": [
    "with sns.axes_style(\"white\"):\n",
    "    sns.jointplot(x=tips.tip, y=tips.total_bill, kind=\"hex\", color=\"k\");"
   ]
  },
  {
   "cell_type": "code",
   "execution_count": null,
   "metadata": {},
   "outputs": [],
   "source": [
    "sns.jointplot(x=\"tip\", y=\"total_bill\", data=tips, kind=\"kde\");"
   ]
  },
  {
   "cell_type": "code",
   "execution_count": null,
   "metadata": {},
   "outputs": [],
   "source": [
    "g = sns.jointplot(x=\"tip\", y=\"total_bill\", data=tips, kind=\"kde\", color=\"m\")\n",
    "g.plot_joint(plt.scatter, c=\"w\", s=30, linewidth=1, marker=\"+\")\n",
    "g.ax_joint.collections[0].set_alpha(0)\n",
    "g.set_axis_labels(\"$X$\", \"$Y$\");"
   ]
  },
  {
   "cell_type": "markdown",
   "metadata": {},
   "source": [
    "### Visualizing pairwise relationships in a dataset\n",
    "#### IRIS Dataset"
   ]
  },
  {
   "cell_type": "markdown",
   "metadata": {},
   "source": [
    "The iris dataset is a well-known dataset for data analysis and machine learning. https://archive.ics.uci.edu/ml/datasets/iris\n",
    "\n",
    "The dataset describes several characteristics of Irises (flower) and the type of the corresponding sample.\n",
    "\n",
    "<img width=30% src=\"./files/flower-labelled_med.jpeg\">\n",
    "\n",
    "1. sepal length in cm \n",
    "2. sepal width in cm \n",
    "3. petal length in cm \n",
    "4. petal width in cm \n",
    "5. class: \n",
    "  - Iris Setosa \n",
    "  - Iris Versicolour \n",
    "  - Iris Virginica\n",
    "\n",
    "The content looks as follows:\n"
   ]
  },
  {
   "cell_type": "code",
   "execution_count": null,
   "metadata": {},
   "outputs": [],
   "source": [
    "iris = sns.load_dataset(\"iris\")\n",
    "iris[45:55]"
   ]
  },
  {
   "cell_type": "code",
   "execution_count": null,
   "metadata": {},
   "outputs": [],
   "source": [
    "iris = sns.load_dataset(\"iris\")\n",
    "sns.pairplot(iris);"
   ]
  },
  {
   "cell_type": "code",
   "execution_count": null,
   "metadata": {},
   "outputs": [],
   "source": [
    "g = sns.PairGrid(iris)\n",
    "g.map_diag(sns.kdeplot)\n",
    "g.map_offdiag(sns.kdeplot, n_levels=6);"
   ]
  },
  {
   "cell_type": "code",
   "execution_count": null,
   "metadata": {},
   "outputs": [],
   "source": []
  },
  {
   "cell_type": "code",
   "execution_count": null,
   "metadata": {},
   "outputs": [],
   "source": []
  }
 ],
 "metadata": {
  "kernelspec": {
   "display_name": "Python 3",
   "language": "python",
   "name": "python3"
  },
  "language_info": {
   "codemirror_mode": {
    "name": "ipython",
    "version": 3
   },
   "file_extension": ".py",
   "mimetype": "text/x-python",
   "name": "python",
   "nbconvert_exporter": "python",
   "pygments_lexer": "ipython3",
   "version": "3.7.1"
  }
 },
 "nbformat": 4,
 "nbformat_minor": 2
}
